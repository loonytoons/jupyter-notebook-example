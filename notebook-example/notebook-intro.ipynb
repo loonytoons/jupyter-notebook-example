{
 "cells": [
  {
   "cell_type": "markdown",
   "id": "fec09538-6243-4c95-bbd2-5fd25af26187",
   "metadata": {},
   "source": [
    "# Juptyer Notebooks\n",
    "\n",
    "## What are Notebooks?\n",
    "\n",
    "Jupyter Notebooks are interactive, web-based tools that allow developers and data scientists to combine code, visualizations, and narrative text in a single document. \n",
    "\n",
    "They are ideal for data analysis, experimentation, and educational purposes. The notebook format enables users to write and execute code in cells, view outputs immediately, and create a narrative around their work, making it accessible and understandable for both technical and non-technical audiences. This makes Jupyter Notebooks a powerful platform for collaboration, teaching, and sharing insights.\n",
    "\n",
    "Useful for:\n",
    "- EDA (exploratory data analysis)\n",
    "- creating AI model POCs\n",
    "- anything where you want visibility of every step of the process or want to build up and adjust a process without needing to rerun the whole flow from the start\n",
    "\n",
    "Less useful for:\n",
    "- creating production ready code\n",
    "- working on code that a number of people will want to be editing at the same time"
   ]
  },
  {
   "cell_type": "markdown",
   "id": "2c840082-9f91-4dba-858a-2c5784bb18a9",
   "metadata": {},
   "source": [
    "## Colab Setup\n",
    "If you're running in Colab:\n",
    "- open Google colab\n",
    "- upload the example notebook\n",
    "- set the `in_colab` parameter to True below\n",
    "- on the left open the files menu\n",
    "- upload the colab-upload.zip archive from the repo\n",
    "- now you can run the cell below to unzip that file"
   ]
  },
  {
   "cell_type": "code",
   "execution_count": null,
   "id": "280a9d05-f05a-482b-a9be-eeb340c38db6",
   "metadata": {},
   "outputs": [],
   "source": [
    "in_colab = False\n",
    "\n",
    "if in_colab:\n",
    "    !unzip -o colab-upload.zip"
   ]
  },
  {
   "cell_type": "markdown",
   "id": "6d09263d-717b-42b9-9b0b-67fabf7fe099",
   "metadata": {},
   "source": [
    "## Playground"
   ]
  },
  {
   "cell_type": "code",
   "execution_count": null,
   "id": "f674e385-12d8-4e96-977b-a2eea49bca1d",
   "metadata": {},
   "outputs": [],
   "source": [
    "import numpy as np\n",
    "import pandas as pd"
   ]
  },
  {
   "cell_type": "code",
   "execution_count": null,
   "id": "aee0ee91-96da-4a97-a13c-efe83bed38c1",
   "metadata": {},
   "outputs": [],
   "source": [
    "thefts = pd.read_csv('data/stolen_vehicles.csv')\n",
    "thefts"
   ]
  },
  {
   "cell_type": "code",
   "execution_count": null,
   "id": "fc381bd7-855d-4b35-8e17-a45d92181439",
   "metadata": {},
   "outputs": [],
   "source": [
    "vehicle_cats = pd.read_csv('data/vehicle_categories.csv')\n",
    "vehicle_cats"
   ]
  }
 ],
 "metadata": {
  "jupytext": {
   "formats": "ipynb,auto:percent"
  },
  "kernelspec": {
   "display_name": "Python 3 (ipykernel)",
   "language": "python",
   "name": "python3"
  },
  "language_info": {
   "codemirror_mode": {
    "name": "ipython",
    "version": 3
   },
   "file_extension": ".py",
   "mimetype": "text/x-python",
   "name": "python",
   "nbconvert_exporter": "python",
   "pygments_lexer": "ipython3",
   "version": "3.11.9"
  }
 },
 "nbformat": 4,
 "nbformat_minor": 5
}
