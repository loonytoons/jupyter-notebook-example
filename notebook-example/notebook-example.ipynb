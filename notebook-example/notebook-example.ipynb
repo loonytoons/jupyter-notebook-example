{
 "cells": [
  {
   "cell_type": "markdown",
   "id": "048a422a-4ae8-4890-8741-8764eebdf21f",
   "metadata": {},
   "source": [
    "# Jupyter Notebook Example\n",
    "An example of what a notebook might look like if you're working in a team and might need to hand this over to someone else.\n"
   ]
  },
  {
   "cell_type": "markdown",
   "id": "d7844407-169b-48d2-bd57-7200d8652557",
   "metadata": {},
   "source": [
    "Here we're going to be:\n",
    "- loading up some data (stolen vehicles in NZ over a 6 month period)\n",
    "- doing some basic analysis on the data\n",
    "- seeing if a very simple prediction model will tell us which day of the week our car is likely to be stolen on"
   ]
  },
  {
   "cell_type": "markdown",
   "id": "381119fb-903e-4eaf-85df-18d11539d480",
   "metadata": {},
   "source": [
    "# Notes"
   ]
  },
  {
   "cell_type": "markdown",
   "id": "6cc121c8-5236-468d-ba12-a5166acb57e0",
   "metadata": {},
   "source": [
    "**Data Sources**\n",
    "- Stolen Vehicle Counts https://www.police.govt.nz/can-you-help-us/stolen-vehicles\n",
    "- NZ Population Counts https://explore.data.stats.govt.nz/\n",
    "\n",
    "**Notes on the data**\n",
    "- some vehicle makes and models have been misclassified. For the purposes of this demo this has not been attempted to be rectified\n",
    "- the vehicle thefts data only spans a 6 month timeframe, so isn't a huge dataset to draw too many conclusions from\n",
    "- NZ population data has been compiled from various sources and needs verifying before being used for anything more than a POC\n",
    "\n",
    "**Assumptions**\n",
    "- the NZ population data was compiled with the assumption that the police regions specified in the vehicle thefts data match closely to the NZ DHB regions from the population data. This needs to be verified, but the assumption is that this is a close enough match for an initial POC\n",
    "\n",
    "**Next Steps**\n",
    "..."
   ]
  },
  {
   "cell_type": "markdown",
   "id": "c9b4309f-44fe-41de-a5a5-b87ade177104",
   "metadata": {},
   "source": [
    "# Setup"
   ]
  },
  {
   "cell_type": "code",
   "execution_count": null,
   "id": "1cef4ca2-dc9b-438a-ae9c-e6ee69daa816",
   "metadata": {},
   "outputs": [],
   "source": [
    "import numpy as np\n",
    "import pandas as pd\n",
    "import matplotlib.pyplot as plt\n",
    "import seaborn as sns\n",
    "import time\n",
    "from datetime import datetime\n",
    "from sklearn.ensemble import RandomForestClassifier\n",
    "from sklearn.model_selection import train_test_split\n",
    "from sklearn.preprocessing import LabelEncoder"
   ]
  },
  {
   "cell_type": "code",
   "execution_count": null,
   "id": "09148a10-963d-4c86-97a4-493ae4d66948",
   "metadata": {},
   "outputs": [],
   "source": [
    "in_colab = False"
   ]
  },
  {
   "cell_type": "code",
   "execution_count": null,
   "id": "94fe9916-7b86-4107-8547-bd67d3707aae",
   "metadata": {},
   "outputs": [],
   "source": [
    "if in_colab:\n",
    "    print(\"\"\"\n",
    "Instructions:\n",
    "- open Google colab\n",
    "- upload the example notebook\n",
    "- on the left open the files menu\n",
    "- upload the colab-upload.zip archive from the repo\n",
    "- now you can run the next cell to unzip that file\n",
    "\"\"\"\n",
    "         )"
   ]
  },
  {
   "cell_type": "code",
   "execution_count": null,
   "id": "a19ba132-ab9d-4b56-8024-04423d96a418",
   "metadata": {},
   "outputs": [],
   "source": [
    "if in_colab:\n",
    "    !unzip -o colab-upload.zip"
   ]
  },
  {
   "cell_type": "markdown",
   "id": "005c7bba-a286-4bf5-bf0b-52954d932ba0",
   "metadata": {},
   "source": [
    "# Data Load"
   ]
  },
  {
   "cell_type": "markdown",
   "id": "b565c531-184a-406c-b99f-d8ddaa326f05",
   "metadata": {},
   "source": [
    "## Stolen Vehicles"
   ]
  },
  {
   "cell_type": "code",
   "execution_count": null,
   "id": "7a8499d3-6379-4209-9cdc-1514714f775b",
   "metadata": {},
   "outputs": [],
   "source": [
    "thefts = pd.read_csv('data/stolen_vehicles.csv')\n",
    "thefts"
   ]
  },
  {
   "cell_type": "code",
   "execution_count": null,
   "id": "2e56afb5-2013-4b85-8500-5b648ecba362",
   "metadata": {},
   "outputs": [],
   "source": [
    "thefts.dtypes"
   ]
  },
  {
   "cell_type": "code",
   "execution_count": null,
   "id": "ead90463-59f9-423f-b9f6-e35badd1262c",
   "metadata": {},
   "outputs": [],
   "source": [
    "thefts.describe()"
   ]
  },
  {
   "cell_type": "code",
   "execution_count": null,
   "id": "73d86180-27a3-4879-9185-a8d367f3a116",
   "metadata": {},
   "outputs": [],
   "source": [
    "thefts.describe(include='object')"
   ]
  },
  {
   "cell_type": "code",
   "execution_count": null,
   "id": "7f744aef-1152-4105-bfe0-e221b2f20ecc",
   "metadata": {},
   "outputs": [],
   "source": [
    "def add_date_cols(df: pd.DataFrame) -> pd.DataFrame:\n",
    "    df['date_stolen'] = pd.to_datetime(df['date_stolen'], format=\"%d/%m/%Y\")\n",
    "    df['month_stolen'] = df['date_stolen'].dt.month\n",
    "    df['dow_stolen'] = df['date_stolen'].dt.strftime('%a')\n",
    "    df['ndow_stolen'] = df['date_stolen'].dt.strftime('%w')\n",
    "    df['dom_stolen'] = df['date_stolen'].dt.strftime('%-d')\n",
    "    df['woy_stolen'] = df['date_stolen'].dt.strftime('%U')\n",
    "    df['is_weekend'] = df['dow_stolen'].isin(['Sat', 'Sun'])\n",
    "    return df\n",
    "\n",
    "thefts = add_date_cols(df=thefts)\n",
    "thefts"
   ]
  },
  {
   "cell_type": "markdown",
   "id": "9e823ccc-e14d-408f-b8b4-34618b42e299",
   "metadata": {},
   "source": [
    "**Instruction**: go back and run the dtypes call above"
   ]
  },
  {
   "cell_type": "markdown",
   "id": "32954b25-6b13-4dcc-b0f4-fe51eceb21d6",
   "metadata": {},
   "source": [
    "## Vehicle Categories"
   ]
  },
  {
   "cell_type": "code",
   "execution_count": null,
   "id": "9dc45ade-b634-4f9f-b739-4b69f6aca518",
   "metadata": {
    "scrolled": true
   },
   "outputs": [],
   "source": [
    "vehicle_cats = pd.read_csv('data/vehicle_categories.csv')\n",
    "vehicle_cats"
   ]
  },
  {
   "cell_type": "markdown",
   "id": "106ccb41-a1e1-4097-ae8c-cd7496c853d2",
   "metadata": {},
   "source": [
    "## NZ Population Stats"
   ]
  },
  {
   "cell_type": "code",
   "execution_count": null,
   "id": "74102cee-293f-44af-b8b9-383a6e3cc9d8",
   "metadata": {
    "scrolled": true
   },
   "outputs": [],
   "source": [
    "nzpop = pd.read_csv('data/nz_location_populations_by_dhb.csv')\n",
    "nzpop"
   ]
  },
  {
   "cell_type": "code",
   "execution_count": null,
   "id": "e32c0212-690b-4f07-8480-79803f6de206",
   "metadata": {},
   "outputs": [],
   "source": [
    "nzpop = nzpop.groupby(['linking_region', 'region'])['population'].sum().reset_index()\n",
    "nzpop.rename(columns={'population': 'linking_region_population'}, inplace=True)\n",
    "nzpop['region_population'] = nzpop.groupby('region')['linking_region_population'].transform('sum')\n",
    "nzpop"
   ]
  },
  {
   "cell_type": "markdown",
   "id": "b3a23505-ca95-4800-94e5-9b497203bc32",
   "metadata": {},
   "source": [
    "**Instruction**: Rerun the above cell"
   ]
  },
  {
   "cell_type": "markdown",
   "id": "36e36143-d521-4eb6-b46e-2c7b7dfdd4c0",
   "metadata": {},
   "source": [
    "## Merged Data"
   ]
  },
  {
   "cell_type": "code",
   "execution_count": null,
   "id": "3664e82d-b636-414b-99b7-20d226dfaaa0",
   "metadata": {},
   "outputs": [],
   "source": [
    "merged = thefts.merge(nzpop, left_on=\"location\", right_on=\"linking_region\", how=\"left\")\n",
    "merged = merged.merge(vehicle_cats, on=\"type\", how=\"left\")\n",
    "merged"
   ]
  },
  {
   "cell_type": "markdown",
   "id": "fd3dbfc8-0537-48a1-a13d-31dfb4a0a42d",
   "metadata": {},
   "source": [
    "# Data Investigation\n",
    "We need to:\n",
    "- get a feel for the data\n",
    "- understand any issues that we see in the data that might impact any analysis or modelling that we want to do"
   ]
  },
  {
   "cell_type": "code",
   "execution_count": null,
   "id": "12805017-ab26-451b-bb4b-84e92daecbb3",
   "metadata": {},
   "outputs": [],
   "source": [
    "# Check how successful the data merges were\n",
    "merged[pd.isnull(merged['region'])]"
   ]
  },
  {
   "cell_type": "code",
   "execution_count": null,
   "id": "c23c1a52-43e9-485e-867e-267fb4ca3805",
   "metadata": {
    "scrolled": true
   },
   "outputs": [],
   "source": [
    "merged[pd.isnull(merged['category'])]"
   ]
  },
  {
   "cell_type": "code",
   "execution_count": null,
   "id": "d9f7e3c7-cdda-4811-9692-5e21c732c955",
   "metadata": {},
   "outputs": [],
   "source": [
    "merged = merged[~pd.isnull(merged['make'])]"
   ]
  },
  {
   "cell_type": "code",
   "execution_count": null,
   "id": "91c35dfa-c4d3-42f0-8652-eceae23d0abb",
   "metadata": {},
   "outputs": [],
   "source": [
    "merged[pd.isnull(merged['type'])]"
   ]
  },
  {
   "cell_type": "code",
   "execution_count": null,
   "id": "20cf72a0-0855-45be-8734-bab11231a281",
   "metadata": {
    "scrolled": true
   },
   "outputs": [],
   "source": [
    "merged[merged['model'] == 'crv']"
   ]
  },
  {
   "cell_type": "code",
   "execution_count": null,
   "id": "7fa6c663-d0b8-4c4f-8f6a-9523bd6a71e9",
   "metadata": {},
   "outputs": [],
   "source": [
    "merged.loc[72, 'type'] = 'Caravan'\n",
    "merged.loc[428, 'type'] = 'Mobile Machine'\n",
    "merged.loc[819, 'type'] = 'Farm Bike'\n",
    "merged.loc[1215, 'type'] = 'Moped'\n",
    "merged.loc[1215, 'model'] = 'CICLONE'\n",
    "merged.loc[3202, 'type'] = 'Hatchback'\n",
    "merged.loc[3828, 'type'] = 'Motorbike'\n",
    "merged.loc[4826, 'type'] = 'Farm Bike'\n",
    "merged.loc[4968, 'type'] = 'Stationwagon'\n",
    "merged.loc[4968, 'model'] = 'CRV'\n",
    "merged = merged[~pd.isnull(merged['type'])]"
   ]
  },
  {
   "cell_type": "code",
   "execution_count": null,
   "id": "03a9c342-2d9d-4bcf-8dea-dedc467798db",
   "metadata": {},
   "outputs": [],
   "source": [
    "merged[merged['id'].isin([72, 428, 819, 1215, 3202, 3828, 4826, 4968])]"
   ]
  },
  {
   "cell_type": "code",
   "execution_count": null,
   "id": "96dbd290-4986-4f22-ac15-b2f8d350234f",
   "metadata": {
    "scrolled": true
   },
   "outputs": [],
   "source": [
    "# if you want to do some further investigation, check out things like:\n",
    "# - the different types of Honda CIVIC in the dataset\n",
    "# - what vehicles have been logged with the make of \"Motorcycle\" or \"Moped\"\n",
    "# - what type of vehicles are those with the type \"Mobile Machine\"\n",
    "\n",
    "merged[merged['year'] == 0]"
   ]
  },
  {
   "cell_type": "markdown",
   "id": "c3e832da-fc84-492b-a64d-ae8d96c1ee8a",
   "metadata": {},
   "source": [
    "What the end result would look like without all the investigative steps above"
   ]
  },
  {
   "cell_type": "code",
   "execution_count": null,
   "id": "cf10f5be-19c4-4a57-952a-a55177224255",
   "metadata": {},
   "outputs": [],
   "source": [
    "def prepare_data(df: pd.DataFrame) -> pd.DataFrame:\n",
    "    df = df[~pd.isnull(df['make'])]\n",
    "\n",
    "    # obviously this wouldn't work in a production pipeine, but can be used to prove out a POC\n",
    "    df.loc[72, 'type'] = 'Caravan'\n",
    "    df.loc[428, 'type'] = 'Mobile Machine'\n",
    "    df.loc[819, 'type'] = 'Farm Bike'\n",
    "    df.loc[1215, 'type'] = 'Moped'\n",
    "    df.loc[1215, 'model'] = 'CICLONE'\n",
    "    df.loc[3202, 'type'] = 'Hatchback'\n",
    "    df.loc[3828, 'type'] = 'Motorbike'\n",
    "    df.loc[4826, 'type'] = 'Farm Bike'\n",
    "    df.loc[4968, 'type'] = 'Stationwagon'\n",
    "    df.loc[4968, 'model'] = 'CRV'\n",
    "    df = df[~pd.isnull(df['type'])]\n",
    "    return df\n",
    "\n",
    "data = thefts.copy()\n",
    "data = prepare_data(df=data)\n",
    "data = datas.merge(nzpop, left_on=\"location\", right_on=\"linking_region\", how=\"left\")\n",
    "data = data.merge(vehicle_cats, on=\"type\", how=\"left\")\n",
    "data"
   ]
  },
  {
   "cell_type": "markdown",
   "id": "3bee630a-a263-4831-b2c9-1d978ad4dde8",
   "metadata": {},
   "source": [
    "# Data Visualisation"
   ]
  },
  {
   "cell_type": "markdown",
   "id": "36f3cd17-da1b-4068-b70b-c88fc32d52ca",
   "metadata": {},
   "source": [
    "## Why is this important?\n",
    "Lets look at the interesting Data Morph project by Stefanie Molin.\n",
    "\n",
    "https://github.com/stefmolin/data-morph\n",
    "\n",
    "(This project is based on the work completed in Data Morph (DOI: 10.5281/zenodo.7834197) and Same Stats, Different Graphs: Generating Datasets with Varied Appearance and Identical Statistics through Simulated Annealing by Justin Matejka and George Fitzmaurice (ACM CHI 2017))."
   ]
  },
  {
   "cell_type": "code",
   "execution_count": null,
   "id": "8b8caf3d-a646-4723-9239-b4d12c1b6b8a",
   "metadata": {},
   "outputs": [],
   "source": [
    "# useful for local files, if they are likely to be changing\n",
    "%load_ext autoreload\n",
    "%autoreload 2\n",
    "\n",
    "from datamorph_example import generate_datamorph_example"
   ]
  },
  {
   "cell_type": "code",
   "execution_count": null,
   "id": "cca08202-4334-446c-a173-3647ea048acf",
   "metadata": {},
   "outputs": [],
   "source": [
    "if in_colab:\n",
    "    %pip install data-morph-ai"
   ]
  },
  {
   "cell_type": "code",
   "execution_count": null,
   "id": "b67e7b7e-0bdb-47d5-b4fe-d6d2af0d94d7",
   "metadata": {
    "scrolled": true
   },
   "outputs": [],
   "source": [
    "generate_datamorph_example()"
   ]
  },
  {
   "cell_type": "markdown",
   "id": "267fe309-98e1-484e-bd3a-dec0ea96af8b",
   "metadata": {},
   "source": [
    "**Dataset One**\n",
    "\n",
    "![Panda](./data_morph/examples/panda-to-star-image-start.png)\n",
    "\n",
    "![Panda](https://drive.google.com/uc?export=view&id=1ilFTXUl8HKLfQ3I5WlH5bVRdHyINK3zi)"
   ]
  },
  {
   "cell_type": "markdown",
   "id": "642fa7ac-fa9d-4288-af45-3985ccbbcf5e",
   "metadata": {},
   "source": [
    "**Dataset Two**\n",
    "\n",
    "![Star](./data_morph/examples/panda-to-star-image-end.png)\n",
    "\n",
    "![Star](https://drive.google.com/uc?export=view&id=1KCKxJKFNnu90Rstv-lteSqVTgvL1_AF3)"
   ]
  },
  {
   "cell_type": "markdown",
   "id": "c6f21dfe-57ec-4b59-846f-4902daecd823",
   "metadata": {},
   "source": [
    "**Morphing**\n",
    "\n",
    "![Panda to Star](./data_morph/examples/panda_to_star-example.gif)\n",
    "\n",
    "![Panda to Star](https://drive.google.com/uc?export=view&id=1N7bpmwX5iAiP5chMVFVOIeBVXSzj-0dG)"
   ]
  },
  {
   "cell_type": "code",
   "execution_count": null,
   "id": "74b75d12-5c74-4a67-9b5a-d12da34ff6aa",
   "metadata": {},
   "outputs": [],
   "source": [
    "%pinfo generate_datamorph_example"
   ]
  },
  {
   "cell_type": "code",
   "execution_count": null,
   "id": "bd15701a-791b-4e97-b165-1b528e811188",
   "metadata": {},
   "outputs": [],
   "source": [
    "generate_datamorph_example??"
   ]
  },
  {
   "cell_type": "markdown",
   "id": "662feea4-50e2-4c06-a5c5-985f6b92ebc4",
   "metadata": {},
   "source": [
    "## Back to Data Visualisation"
   ]
  },
  {
   "cell_type": "code",
   "execution_count": null,
   "id": "026c225c-ded9-4520-903a-46f96c12f4f9",
   "metadata": {},
   "outputs": [],
   "source": [
    "data.groupby('type').size().sort_values().plot(kind='barh')\n",
    "plt.show()"
   ]
  },
  {
   "cell_type": "code",
   "execution_count": null,
   "id": "16dceb7d-3f2d-41c3-8658-e203de1f8341",
   "metadata": {},
   "outputs": [],
   "source": [
    "data.groupby('category').size().sort_values().plot(kind='barh')\n",
    "plt.show()"
   ]
  },
  {
   "cell_type": "code",
   "execution_count": null,
   "id": "2877a9c6-0318-409d-b60a-f34681309c75",
   "metadata": {},
   "outputs": [],
   "source": [
    "sns.countplot(data=data, x=\"dow_stolen\")\n",
    "plt.show()"
   ]
  },
  {
   "cell_type": "code",
   "execution_count": null,
   "id": "5cf3675d-f954-4faf-b28a-fc16742aabce",
   "metadata": {},
   "outputs": [],
   "source": [
    "sns.set_style(\"whitegrid\")\n",
    "chart = sns.countplot(data=data, x=\"dow_stolen\", hue=\"is_weekend\", legend=False, order=[\"Mon\", \"Tue\", \"Wed\", \"Thu\", \"Fri\", \"Sat\", \"Sun\"], palette=\"Set2\")\n",
    "chart.set(ylabel=\"Vehicles Stolen\", xlabel=\"Day of the Week\")\n",
    "plt.show()"
   ]
  },
  {
   "cell_type": "code",
   "execution_count": null,
   "id": "dd5c5648-7c44-442b-9bd9-e99c8d755979",
   "metadata": {},
   "outputs": [],
   "source": [
    "chart = sns.boxplot(data=data, x=\"category\", y=\"year\", hue=\"category\")\n",
    "plt.xticks(rotation=30)\n",
    "plt.show()"
   ]
  },
  {
   "cell_type": "code",
   "execution_count": null,
   "id": "23ef03cb-8458-4e18-8e56-df81f76edaab",
   "metadata": {},
   "outputs": [],
   "source": [
    "subset = data[data['year'] > 0]\n",
    "chart = sns.boxplot(data=subset, x=\"category\", y=\"year\", hue=\"category\")\n",
    "plt.xticks(rotation=30)\n",
    "plt.show()"
   ]
  },
  {
   "cell_type": "markdown",
   "id": "5819347a-fc44-458c-a73e-16e940b090ff",
   "metadata": {},
   "source": [
    "# Building a simple model\n",
    "Before anyone says it, this model is _not_ a good one, I've just included it as an example to cover some of the things we might be thinking of when we create a model.\n",
    "\n",
    "It's also true that not all research models are successful, and these failures still consistitute valid outcomes of the research.\n",
    "\n",
    "Hypothsis:\n",
    "- based on my vehicle make, model, and location region, can I predict which day of the week it is most likely to get stolen on"
   ]
  },
  {
   "cell_type": "code",
   "execution_count": null,
   "id": "23bf5b05-3e3c-4432-84f2-c2d85ceeffe2",
   "metadata": {},
   "outputs": [],
   "source": [
    "make = \"Toyota\"\n",
    "model = \"HILUX\"\n",
    "region = \"Auckland\"\n",
    "print(data[(data['make'] == make) & (data['model'] == model) & (data['region'] == region)].groupby('dow_stolen')['id'].count())"
   ]
  },
  {
   "cell_type": "code",
   "execution_count": null,
   "id": "3543ad81-bd5b-4cd9-a008-1fb6e9c7492a",
   "metadata": {},
   "outputs": [],
   "source": [
    "model_cols = ['colour', 'make', 'model']\n",
    "target_col = 'ndow_stolen'\n",
    "print(data[target_col])\n",
    "data[model_cols]"
   ]
  },
  {
   "cell_type": "code",
   "execution_count": null,
   "id": "1f2dec69-9bda-4ea6-a090-7ec325144567",
   "metadata": {},
   "outputs": [],
   "source": [
    "model_data_with_target = data[model_cols + [target_col]].dropna()\n",
    "target_data = model_data_with_target[target_col]\n",
    "model_data = model_data_with_target[model_cols]\n",
    "\n",
    "le = LabelEncoder()\n",
    "X_encoded = model_data.apply(le.fit_transform)\n",
    "y_encoded = le.fit_transform(target_data)\n",
    "\n",
    "X_encoded"
   ]
  },
  {
   "cell_type": "code",
   "execution_count": null,
   "id": "80412098-907c-4200-bb9c-c7df511ced4c",
   "metadata": {},
   "outputs": [],
   "source": [
    "X_train, X_test, y_train, y_test = train_test_split(X_encoded, y_encoded)\n",
    "\n",
    "model = RandomForestClassifier(n_estimators=100, random_state=42)\n",
    "model.fit(X_train, y_train)\n",
    "\n",
    "score = model.score(X_test, y_test)\n",
    "y_pred=model.predict(X_test)\n",
    "print(f\"Model accuracy: {score:.2f}\")\n",
    "\n",
    "print(\"Feature importances:\", model.feature_importances_)"
   ]
  },
  {
   "cell_type": "markdown",
   "id": "61e3aff4-1573-4d85-baa5-46290f16306c",
   "metadata": {},
   "source": [
    "**Conclusion**: The model performs as well as a random guess, so offers no benefit in this particular scenario."
   ]
  },
  {
   "cell_type": "markdown",
   "id": "ce90029c-ba9a-4598-9de6-8c4bdbd7c2f0",
   "metadata": {},
   "source": [
    "# Other Useful Magic Methods"
   ]
  },
  {
   "cell_type": "code",
   "execution_count": null,
   "id": "f8c3cbd0-73be-4e76-9aed-0e8e026a5b29",
   "metadata": {},
   "outputs": [],
   "source": [
    "%%time\n",
    "\n",
    "print('hello')\n",
    "for i in range(1000): np.random.random_sample()\n",
    "time.sleep(5)\n",
    "print('complete')"
   ]
  },
  {
   "cell_type": "code",
   "execution_count": null,
   "id": "9a2a0bf3-ecdb-4340-8196-95fd8a1eb14d",
   "metadata": {},
   "outputs": [],
   "source": [
    "print('hello')\n",
    "%time for i in range(1000): np.random.random_sample()\n",
    "time.sleep(5)\n",
    "print('complete')"
   ]
  },
  {
   "cell_type": "code",
   "execution_count": null,
   "id": "7c91b6c5-c700-4689-b1e2-83d285f5f666",
   "metadata": {
    "scrolled": true
   },
   "outputs": [],
   "source": [
    "%whos"
   ]
  },
  {
   "cell_type": "code",
   "execution_count": null,
   "id": "d3fa6f94-30be-4ff2-bf4c-6265ba487a45",
   "metadata": {
    "scrolled": true
   },
   "outputs": [],
   "source": [
    "%history -n"
   ]
  },
  {
   "cell_type": "code",
   "execution_count": null,
   "id": "07c21939-34db-452d-9c3a-c20ff9573f05",
   "metadata": {},
   "outputs": [],
   "source": [
    "%recall 34-35"
   ]
  },
  {
   "cell_type": "code",
   "execution_count": null,
   "id": "6c1fa831-1b13-4f9c-9c69-a9091da12c77",
   "metadata": {},
   "outputs": [],
   "source": [
    "%%time\n",
    "\n",
    "print('hello')\n",
    "for i in range(1000): np.random.random_sample()\n",
    "time.sleep(5)\n",
    "print('complete')\n",
    "print('hello')\n",
    "%time for i in range(1000): np.random.random_sample()\n",
    "time.sleep(5)\n",
    "print('complete')"
   ]
  },
  {
   "cell_type": "markdown",
   "id": "cbc5193a-ba15-4527-bc71-9d154987c6a9",
   "metadata": {},
   "source": [
    "# Saving the Notebook\n",
    "- recommend resetting the state of the notebook and running it end to end to check for any errors (usually state related)\n",
    "- usual guidance is to not save the notebook output unless you really need to. Client data etc ending up in Github or Gitlab is really not ideal\n",
    "- use something like Jupytext to only commit the code portions of the notebook to Git, and make your PRs readable too\n",
    "- anything that needs to be logged and kept for potential re-use / rerunning later should be saved and logged appropriately\n",
    "  - e.g. for research experiment tracking you want to note the exact code commit hash, so that the code can be checked out and run exactly as it was at the time of the experiment. The datasets used also want to be preserved, so that it's possible to recreate the experiment and it's outputs exactly\n",
    "- if you are saving your notebook, it can be useful to include a final datetime print at the end, so you can see when it was last run end to end:"
   ]
  },
  {
   "cell_type": "code",
   "execution_count": null,
   "id": "25c916a4-b245-40d0-8b28-d5d1be8967c3",
   "metadata": {},
   "outputs": [],
   "source": [
    "str(datetime.now())"
   ]
  }
 ],
 "metadata": {
  "kernelspec": {
   "display_name": "Python 3 (ipykernel)",
   "language": "python",
   "name": "python3"
  },
  "language_info": {
   "codemirror_mode": {
    "name": "ipython",
    "version": 3
   },
   "file_extension": ".py",
   "mimetype": "text/x-python",
   "name": "python",
   "nbconvert_exporter": "python",
   "pygments_lexer": "ipython3",
   "version": "3.11.9"
  }
 },
 "nbformat": 4,
 "nbformat_minor": 5
}
