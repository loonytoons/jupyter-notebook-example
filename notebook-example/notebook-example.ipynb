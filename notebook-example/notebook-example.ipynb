{
 "cells": [
  {
   "cell_type": "markdown",
   "id": "048a422a-4ae8-4890-8741-8764eebdf21f",
   "metadata": {},
   "source": [
    "# Jupyter Notebook - Annotated Example\n",
    "An example of what a notebook might look like if you're working in a team and might need to hand this over to someone else."
   ]
  },
  {
   "cell_type": "markdown",
   "id": "d7844407-169b-48d2-bd57-7200d8652557",
   "metadata": {},
   "source": [
    "## Purpose of this notebook\n",
    "Exploratory data analysis (EDA). This involves:\n",
    "- loading up some data (stolen vehicles in NZ over a 6 month period)\n",
    "- investigating the data\n",
    "- visualising the data\n",
    "\n",
    "Included is some examples of some magic methods you can use in Jupyter."
   ]
  },
  {
   "cell_type": "markdown",
   "id": "381119fb-903e-4eaf-85df-18d11539d480",
   "metadata": {},
   "source": [
    "## Notes"
   ]
  },
  {
   "cell_type": "markdown",
   "id": "6cc121c8-5236-468d-ba12-a5166acb57e0",
   "metadata": {},
   "source": [
    "**Data Sources**\n",
    "- Stolen Vehicle Counts https://www.police.govt.nz/can-you-help-us/stolen-vehicles\n",
    "\n",
    "**Notes on the data**\n",
    "- some vehicle makes and models are missing or have been misclassified. For the purposes of this demo this has not been attempted to be rectified\n",
    "- the vehicle thefts data only spans a 6 month timeframe, so isn't a huge dataset to draw too many conclusions from\n",
    "\n",
    "**Next Steps**\n",
    "- define rules for handling erroneous or missing data\n",
    "- get car counts for different models currently in NZ, to compare the theft rates against availability rates\n",
    "- get population counts and area sizes to compare rates of theft with population density"
   ]
  },
  {
   "cell_type": "markdown",
   "id": "c9b4309f-44fe-41de-a5a5-b87ade177104",
   "metadata": {},
   "source": [
    "# Setup"
   ]
  },
  {
   "cell_type": "code",
   "execution_count": null,
   "id": "1cef4ca2-dc9b-438a-ae9c-e6ee69daa816",
   "metadata": {},
   "outputs": [],
   "source": [
    "import numpy as np\n",
    "import pandas as pd\n",
    "import matplotlib.pyplot as plt\n",
    "import seaborn as sns\n",
    "import time\n",
    "from datetime import datetime\n",
    "from sklearn.ensemble import RandomForestClassifier\n",
    "from sklearn.model_selection import train_test_split\n",
    "from sklearn.preprocessing import LabelEncoder"
   ]
  },
  {
   "cell_type": "markdown",
   "id": "76cdb136-8e77-498e-b122-73abf2bfd095",
   "metadata": {},
   "source": [
    "If you're running in Colab:\n",
    "- open Google colab\n",
    "- upload the example notebook\n",
    "- set the `in_colab` parameter to True below\n",
    "- on the left open the files menu\n",
    "- upload the colab-upload.zip archive from the repo\n",
    "- now you can run the cell below to unzip that file"
   ]
  },
  {
   "cell_type": "code",
   "execution_count": null,
   "id": "09148a10-963d-4c86-97a4-493ae4d66948",
   "metadata": {},
   "outputs": [],
   "source": [
    "in_colab = False"
   ]
  },
  {
   "cell_type": "code",
   "execution_count": null,
   "id": "a19ba132-ab9d-4b56-8024-04423d96a418",
   "metadata": {},
   "outputs": [],
   "source": [
    "if in_colab:\n",
    "    !unzip -o colab-upload.zip"
   ]
  },
  {
   "cell_type": "markdown",
   "id": "005c7bba-a286-4bf5-bf0b-52954d932ba0",
   "metadata": {},
   "source": [
    "# Data Load"
   ]
  },
  {
   "cell_type": "markdown",
   "id": "b565c531-184a-406c-b99f-d8ddaa326f05",
   "metadata": {},
   "source": [
    "## Stolen Vehicles"
   ]
  },
  {
   "cell_type": "code",
   "execution_count": null,
   "id": "7a8499d3-6379-4209-9cdc-1514714f775b",
   "metadata": {},
   "outputs": [],
   "source": [
    "thefts = pd.read_csv('data/stolen_vehicles.csv')\n",
    "thefts"
   ]
  },
  {
   "cell_type": "code",
   "execution_count": null,
   "id": "2e56afb5-2013-4b85-8500-5b648ecba362",
   "metadata": {},
   "outputs": [],
   "source": [
    "thefts.dtypes"
   ]
  },
  {
   "cell_type": "code",
   "execution_count": null,
   "id": "ead90463-59f9-423f-b9f6-e35badd1262c",
   "metadata": {},
   "outputs": [],
   "source": [
    "thefts.describe()"
   ]
  },
  {
   "cell_type": "code",
   "execution_count": null,
   "id": "73d86180-27a3-4879-9185-a8d367f3a116",
   "metadata": {},
   "outputs": [],
   "source": [
    "thefts.describe(include='object')"
   ]
  },
  {
   "cell_type": "code",
   "execution_count": null,
   "id": "7f744aef-1152-4105-bfe0-e221b2f20ecc",
   "metadata": {},
   "outputs": [],
   "source": [
    "def add_date_cols(df: pd.DataFrame) -> pd.DataFrame:\n",
    "    df['date_stolen'] = pd.to_datetime(df['date_stolen'], format=\"%d/%m/%Y\")\n",
    "    df['month_stolen'] = df['date_stolen'].dt.month\n",
    "    df['dow_stolen'] = df['date_stolen'].dt.strftime('%a')\n",
    "    df['ndow_stolen'] = df['date_stolen'].dt.strftime('%w')\n",
    "    df['dom_stolen'] = df['date_stolen'].dt.strftime('%-d')\n",
    "    df['woy_stolen'] = df['date_stolen'].dt.strftime('%U')\n",
    "    df['is_weekend'] = df['dow_stolen'].isin(['Sat', 'Sun'])\n",
    "    return df\n",
    "\n",
    "thefts = add_date_cols(df=thefts)\n",
    "thefts"
   ]
  },
  {
   "cell_type": "markdown",
   "id": "9e823ccc-e14d-408f-b8b4-34618b42e299",
   "metadata": {},
   "source": [
    "**Instruction**: go back and run the dtypes cell above"
   ]
  },
  {
   "cell_type": "code",
   "execution_count": null,
   "id": "10cd6bc0-2f9a-493e-b284-48581f8fa6f2",
   "metadata": {
    "scrolled": true
   },
   "outputs": [],
   "source": [
    "thefts['month_location_total'] = thefts.groupby(['location', 'month_stolen'])['id'].transform('count')\n",
    "thefts.rename(columns={'location': 'location_stolen'}, inplace=True)\n",
    "thefts"
   ]
  },
  {
   "cell_type": "markdown",
   "id": "021292a2-5b96-456a-a8a4-b6b84c893b9f",
   "metadata": {},
   "source": [
    "**Instruction**: run cell above twice"
   ]
  },
  {
   "cell_type": "markdown",
   "id": "32954b25-6b13-4dcc-b0f4-fe51eceb21d6",
   "metadata": {},
   "source": [
    "## Add on Vehicle Categories"
   ]
  },
  {
   "cell_type": "code",
   "execution_count": null,
   "id": "9dc45ade-b634-4f9f-b739-4b69f6aca518",
   "metadata": {
    "scrolled": true
   },
   "outputs": [],
   "source": [
    "vehicle_cats = pd.read_csv('data/vehicle_categories.csv')\n",
    "vehicle_cats"
   ]
  },
  {
   "cell_type": "code",
   "execution_count": null,
   "id": "3664e82d-b636-414b-99b7-20d226dfaaa0",
   "metadata": {},
   "outputs": [],
   "source": [
    "data = thefts.merge(vehicle_cats, on=\"type\", how=\"left\")\n",
    "data"
   ]
  },
  {
   "cell_type": "markdown",
   "id": "fd3dbfc8-0537-48a1-a13d-31dfb4a0a42d",
   "metadata": {},
   "source": [
    "# Data Investigation\n",
    "We need to:\n",
    "- get a feel for the data\n",
    "- understand any issues that we see in the data that might impact any analysis or modelling that we want to do"
   ]
  },
  {
   "cell_type": "code",
   "execution_count": null,
   "id": "12805017-ab26-451b-bb4b-84e92daecbb3",
   "metadata": {},
   "outputs": [],
   "source": [
    "# Check how successful the data merges were\n",
    "data[pd.isnull(data['category'])]"
   ]
  },
  {
   "cell_type": "code",
   "execution_count": null,
   "id": "d9f7e3c7-cdda-4811-9692-5e21c732c955",
   "metadata": {},
   "outputs": [],
   "source": [
    "data = data[~pd.isnull(data['make'])]\n",
    "data = data[~pd.isnull(data['type'])]"
   ]
  },
  {
   "cell_type": "code",
   "execution_count": null,
   "id": "96dbd290-4986-4f22-ac15-b2f8d350234f",
   "metadata": {
    "scrolled": true
   },
   "outputs": [],
   "source": [
    "# if you want to do some further investigation, check out things like:\n",
    "# - the different types of Honda CIVIC in the dataset\n",
    "# - what vehicles have been logged with the make of \"Motorcycle\" or \"Moped\"\n",
    "# - what type of vehicles are those with the type \"Mobile Machine\"\n",
    "\n",
    "data[data['year'] == 0]"
   ]
  },
  {
   "cell_type": "markdown",
   "id": "3bee630a-a263-4831-b2c9-1d978ad4dde8",
   "metadata": {},
   "source": [
    "# Data Visualisation"
   ]
  },
  {
   "cell_type": "markdown",
   "id": "36f3cd17-da1b-4068-b70b-c88fc32d52ca",
   "metadata": {},
   "source": [
    "## Why is this important?\n",
    "Lets look at the interesting Data Morph project by Stefanie Molin.\n",
    "\n",
    "https://github.com/stefmolin/data-morph\n",
    "\n",
    "(This project is inspired by the Datasaurus Dozen, and based on the work completed in Data Morph (DOI: 10.5281/zenodo.7834197) and Same Stats, Different Graphs: Generating Datasets with Varied Appearance and Identical Statistics through Simulated Annealing by Justin Matejka and George Fitzmaurice (ACM CHI 2017))."
   ]
  },
  {
   "cell_type": "code",
   "execution_count": null,
   "id": "8b8caf3d-a646-4723-9239-b4d12c1b6b8a",
   "metadata": {},
   "outputs": [],
   "source": [
    "# useful for local files, if they are likely to be changing\n",
    "%load_ext autoreload\n",
    "%autoreload 2\n",
    "\n",
    "from util.datamorph_example import generate_datamorph_example"
   ]
  },
  {
   "cell_type": "code",
   "execution_count": null,
   "id": "cca08202-4334-446c-a173-3647ea048acf",
   "metadata": {},
   "outputs": [],
   "source": [
    "if in_colab:\n",
    "    %pip install data-morph-ai"
   ]
  },
  {
   "cell_type": "markdown",
   "id": "61115c75-fb8c-439c-8218-2d7db9c116e7",
   "metadata": {},
   "source": [
    "**The Datasaurus Dozen**\n",
    "\n",
    "What do all af these datasets have in common?\n",
    "\n",
    "![Datasaurus](./data_morph/examples/datasaurus-dozen.png)\n",
    "\n",
    "![Datasaurus](https://drive.google.com/uc?export=view&id=1MPHA5qkaZZ4uYNq5FMu5YsuyzqHcpaeN)\n",
    "\n",
    "Credit to (https://juliasilge.com/blog/datasaurus-multiclass/) for this image"
   ]
  },
  {
   "cell_type": "code",
   "execution_count": null,
   "id": "b67e7b7e-0bdb-47d5-b4fe-d6d2af0d94d7",
   "metadata": {
    "scrolled": true
   },
   "outputs": [],
   "source": [
    "# Run this to generate the gif below that transforms the panda to the star\n",
    "# It does take a while but shows you a progress bar\n",
    "\n",
    "#generate_datamorph_example()"
   ]
  },
  {
   "cell_type": "markdown",
   "id": "267fe309-98e1-484e-bd3a-dec0ea96af8b",
   "metadata": {},
   "source": [
    "**Dataset One**\n",
    "\n",
    "![Panda](./data_morph/examples/panda-to-star-image-start.png)\n",
    "\n",
    "![Panda](https://drive.google.com/uc?export=view&id=1ilFTXUl8HKLfQ3I5WlH5bVRdHyINK3zi)"
   ]
  },
  {
   "cell_type": "markdown",
   "id": "642fa7ac-fa9d-4288-af45-3985ccbbcf5e",
   "metadata": {},
   "source": [
    "**Dataset Two**\n",
    "\n",
    "![Star](./data_morph/examples/panda-to-star-image-end.png)\n",
    "\n",
    "![Star](https://drive.google.com/uc?export=view&id=1KCKxJKFNnu90Rstv-lteSqVTgvL1_AF3)"
   ]
  },
  {
   "cell_type": "markdown",
   "id": "c6f21dfe-57ec-4b59-846f-4902daecd823",
   "metadata": {},
   "source": [
    "**Morphing**\n",
    "\n",
    "![Panda to Star](./data_morph/examples/panda_to_star-example.gif)\n",
    "\n",
    "![Panda to Star](https://drive.google.com/uc?export=view&id=1N7bpmwX5iAiP5chMVFVOIeBVXSzj-0dG)"
   ]
  },
  {
   "cell_type": "code",
   "execution_count": null,
   "id": "74b75d12-5c74-4a67-9b5a-d12da34ff6aa",
   "metadata": {},
   "outputs": [],
   "source": [
    "%pinfo generate_datamorph_example"
   ]
  },
  {
   "cell_type": "code",
   "execution_count": null,
   "id": "bd15701a-791b-4e97-b165-1b528e811188",
   "metadata": {},
   "outputs": [],
   "source": [
    "generate_datamorph_example??"
   ]
  },
  {
   "cell_type": "markdown",
   "id": "662feea4-50e2-4c06-a5c5-985f6b92ebc4",
   "metadata": {},
   "source": [
    "## Back to Data Visualisation"
   ]
  },
  {
   "cell_type": "code",
   "execution_count": null,
   "id": "026c225c-ded9-4520-903a-46f96c12f4f9",
   "metadata": {},
   "outputs": [],
   "source": [
    "fig, axs = plt.subplots(figsize=(10,5), nrows=1, ncols=2)\n",
    "plt.subplots_adjust(wspace=0.5)\n",
    "\n",
    "data.groupby('type').size().sort_values().plot(kind='barh', ax=axs[0])\n",
    "data.groupby('category').size().sort_values().plot(kind='barh', ax=axs[1])\n",
    "plt.show()"
   ]
  },
  {
   "cell_type": "code",
   "execution_count": null,
   "id": "5cf3675d-f954-4faf-b28a-fc16742aabce",
   "metadata": {},
   "outputs": [],
   "source": [
    "sns.set_style(\"whitegrid\")\n",
    "chart = sns.countplot(data=data, x=\"dow_stolen\", hue=\"is_weekend\", legend=False, order=[\"Mon\", \"Tue\", \"Wed\", \"Thu\", \"Fri\", \"Sat\", \"Sun\"], palette=\"Set2\")\n",
    "chart.set(ylabel=\"Vehicles Stolen\", xlabel=\"Day of the Week\")\n",
    "plt.show()"
   ]
  },
  {
   "cell_type": "code",
   "execution_count": null,
   "id": "dd5c5648-7c44-442b-9bd9-e99c8d755979",
   "metadata": {},
   "outputs": [],
   "source": [
    "subset = data.copy()\n",
    "#subset = data[data['year'] > 0]\n",
    "chart = sns.boxplot(data=subset, x=\"category\", y=\"year\", hue=\"category\")\n",
    "plt.xticks(rotation=30)\n",
    "plt.show()"
   ]
  },
  {
   "cell_type": "markdown",
   "id": "ce90029c-ba9a-4598-9de6-8c4bdbd7c2f0",
   "metadata": {},
   "source": [
    "# Other Useful Magic Methods"
   ]
  },
  {
   "cell_type": "code",
   "execution_count": null,
   "id": "f8c3cbd0-73be-4e76-9aed-0e8e026a5b29",
   "metadata": {},
   "outputs": [],
   "source": [
    "%%time\n",
    "\n",
    "print('hello')\n",
    "for i in range(1000): np.random.random_sample()\n",
    "time.sleep(5)\n",
    "print('complete')"
   ]
  },
  {
   "cell_type": "code",
   "execution_count": null,
   "id": "9a2a0bf3-ecdb-4340-8196-95fd8a1eb14d",
   "metadata": {},
   "outputs": [],
   "source": [
    "print('hello')\n",
    "%time for i in range(1000): np.random.random_sample()\n",
    "time.sleep(5)\n",
    "print('complete')"
   ]
  },
  {
   "cell_type": "code",
   "execution_count": null,
   "id": "7c91b6c5-c700-4689-b1e2-83d285f5f666",
   "metadata": {
    "scrolled": true
   },
   "outputs": [],
   "source": [
    "%whos"
   ]
  },
  {
   "cell_type": "code",
   "execution_count": null,
   "id": "d3fa6f94-30be-4ff2-bf4c-6265ba487a45",
   "metadata": {
    "scrolled": true
   },
   "outputs": [],
   "source": [
    "%history -n"
   ]
  },
  {
   "cell_type": "code",
   "execution_count": null,
   "id": "07c21939-34db-452d-9c3a-c20ff9573f05",
   "metadata": {},
   "outputs": [],
   "source": [
    "%recall 27-28"
   ]
  },
  {
   "cell_type": "code",
   "execution_count": null,
   "id": "25c916a4-b245-40d0-8b28-d5d1be8967c3",
   "metadata": {},
   "outputs": [],
   "source": [
    "str(datetime.now())"
   ]
  }
 ],
 "metadata": {
  "jupytext": {
   "formats": "ipynb,py:percent"
  },
  "kernelspec": {
   "display_name": "Python 3 (ipykernel)",
   "language": "python",
   "name": "python3"
  },
  "language_info": {
   "codemirror_mode": {
    "name": "ipython",
    "version": 3
   },
   "file_extension": ".py",
   "mimetype": "text/x-python",
   "name": "python",
   "nbconvert_exporter": "python",
   "pygments_lexer": "ipython3",
   "version": "3.11.9"
  }
 },
 "nbformat": 4,
 "nbformat_minor": 5
}
